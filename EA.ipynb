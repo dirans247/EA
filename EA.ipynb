{
 "cells": [
  {
   "cell_type": "code",
   "execution_count": 1,
   "id": "d88f2442",
   "metadata": {
    "scrolled": false
   },
   "outputs": [
    {
     "name": "stderr",
     "output_type": "stream",
     "text": [
      "/home/user/anaconda3/lib/python3.8/site-packages/openpyxl/styles/stylesheet.py:221: UserWarning: Workbook contains no default style, apply openpyxl's default\n",
      "  warn(\"Workbook contains no default style, apply openpyxl's default\")\n"
     ]
    },
    {
     "data": {
      "text/plain": [
       "array(['CBDU209212', 'CBDU97939', 'CBDU95537', nan, 'CBDU124043',\n",
       "       'CBDU408626', 'CBDU93143', 'CBDU362809', 'CBDU130266',\n",
       "       'CBDU102529', 'CBDU185876', 'CBDU202447', 'CBDU75471',\n",
       "       'CBDU139098', 'CBDU105768', 'CBDU342884', 'CBDU211879',\n",
       "       'CBDU371920', 'CBDU137743', 'CBDU242842', 'ROC UT 3837',\n",
       "       'CBDU86534', 'CBDL30639', 'CBDU415839', 'CBDU190299', 'CBDU61848',\n",
       "       'CBDU190347', 'CBDU326424', 'CBDL49309', 'CBDU80875'], dtype=object)"
      ]
     },
     "metadata": {},
     "output_type": "display_data"
    },
    {
     "data": {
      "text/plain": [
       "'http://environment.data.gov.uk/public-register/waste-carriers-brokers/registration/CBDU209212.json'"
      ]
     },
     "metadata": {},
     "output_type": "display_data"
    },
    {
     "name": "stdout",
     "output_type": "stream",
     "text": [
      "\u001b[1;92mSucessfully found: CBDU209212 license \n",
      "David Kidd trading as DKDOMESTIC\n",
      "SM6 7DW\n",
      "Expiry Date 2023-12-02\n",
      "Date ok\n",
      "\u001b[1;92mTier  Upper\n",
      "-----------------\n"
     ]
    },
    {
     "data": {
      "text/plain": [
       "'http://environment.data.gov.uk/public-register/waste-carriers-brokers/registration/CBDU97939.json'"
      ]
     },
     "metadata": {},
     "output_type": "display_data"
    },
    {
     "name": "stdout",
     "output_type": "stream",
     "text": [
      "\u001b[1;92mSucessfully found: CBDU97939 license \n",
      "CORY BARKING OPERATIONS LIMITED trading as Cory Barking Operations Limited\n",
      "IG11 0DS\n",
      "Expiry Date 2025-05-14\n",
      "Date ok\n",
      "\u001b[1;92mTier  Upper\n",
      "-----------------\n"
     ]
    },
    {
     "data": {
      "text/plain": [
       "'http://environment.data.gov.uk/public-register/waste-carriers-brokers/registration/CBDU95537.json'"
      ]
     },
     "metadata": {},
     "output_type": "display_data"
    },
    {
     "name": "stdout",
     "output_type": "stream",
     "text": [
      "\u001b[1;92mSucessfully found: CBDU95537 license \n",
      "VEOLIA ES (UK) LTD\n",
      "N1 9JY\n",
      "Expiry Date 2025-04-03\n",
      "Date ok\n",
      "\u001b[1;92mTier  Upper\n",
      "-----------------\n",
      "\u001b[1;91mNOT found for: nan\n",
      "-----------------\n",
      "\u001b[1;91m NOT found for: CBDU124043\n",
      "-----------------\n"
     ]
    },
    {
     "data": {
      "text/plain": [
       "'http://environment.data.gov.uk/public-register/waste-carriers-brokers/registration/CBDU408626.json'"
      ]
     },
     "metadata": {},
     "output_type": "display_data"
    },
    {
     "name": "stdout",
     "output_type": "stream",
     "text": [
      "\u001b[1;92mSucessfully found: CBDU408626 license \n",
      "J S Highfield Ltd\n",
      "DN21 5TJ\n",
      "Expiry Date 2024-10-08\n",
      "Date ok\n",
      "\u001b[1;92mTier  Upper\n",
      "-----------------\n"
     ]
    },
    {
     "data": {
      "text/plain": [
       "'http://environment.data.gov.uk/public-register/waste-carriers-brokers/registration/CBDU93143.json'"
      ]
     },
     "metadata": {},
     "output_type": "display_data"
    },
    {
     "name": "stdout",
     "output_type": "stream",
     "text": [
      "\u001b[1;92mSucessfully found: CBDU93143 license \n",
      "STEVE SWAIN LTD\n",
      "SY5 8PU\n",
      "Expiry Date 2025-03-21\n",
      "Date ok\n",
      "\u001b[1;92mTier  Upper\n",
      "-----------------\n"
     ]
    },
    {
     "data": {
      "text/plain": [
       "'http://environment.data.gov.uk/public-register/waste-carriers-brokers/registration/CBDU362809.json'"
      ]
     },
     "metadata": {},
     "output_type": "display_data"
    },
    {
     "name": "stdout",
     "output_type": "stream",
     "text": [
      "\u001b[1;92mSucessfully found: CBDU362809 license \n",
      "Veolia Treatment West Haulage\n",
      "SY5 6HY\n",
      "Expiry Date 2023-11-17\n",
      "Date ok\n",
      "\u001b[1;92mTier  Upper\n",
      "-----------------\n"
     ]
    },
    {
     "data": {
      "text/plain": [
       "'http://environment.data.gov.uk/public-register/waste-carriers-brokers/registration/CBDU130266.json'"
      ]
     },
     "metadata": {},
     "output_type": "display_data"
    },
    {
     "name": "stdout",
     "output_type": "stream",
     "text": [
      "\u001b[1;92mSucessfully found: CBDU130266 license \n",
      "VEOLIA ES SHROPSHIRE LIMITED\n",
      "SY1 3TG\n",
      "Expiry Date 2025-09-12\n",
      "Date ok\n",
      "\u001b[1;92mTier  Upper\n",
      "-----------------\n"
     ]
    },
    {
     "data": {
      "text/plain": [
       "'http://environment.data.gov.uk/public-register/waste-carriers-brokers/registration/CBDU102529.json'"
      ]
     },
     "metadata": {},
     "output_type": "display_data"
    },
    {
     "name": "stdout",
     "output_type": "stream",
     "text": [
      "\u001b[1;92mSucessfully found: CBDU102529 license \n",
      "Fenwick Brothers Ltd.\n",
      "DN37 0TL\n",
      "Expiry Date 2025-05-11\n",
      "Date ok\n",
      "\u001b[1;92mTier  Upper\n",
      "-----------------\n"
     ]
    },
    {
     "data": {
      "text/plain": [
       "'http://environment.data.gov.uk/public-register/waste-carriers-brokers/registration/CBDU185876.json'"
      ]
     },
     "metadata": {},
     "output_type": "display_data"
    },
    {
     "name": "stdout",
     "output_type": "stream",
     "text": [
      "\u001b[1;92mSucessfully found: CBDU185876 license \n",
      "RICHARDSON TRANSPORT LTD\n",
      "YO41 4EB\n",
      "Expiry Date 2023-07-18\n",
      "Date ok\n",
      "\u001b[1;92mTier  Upper\n",
      "-----------------\n"
     ]
    },
    {
     "data": {
      "text/plain": [
       "'http://environment.data.gov.uk/public-register/waste-carriers-brokers/registration/CBDU202447.json'"
      ]
     },
     "metadata": {},
     "output_type": "display_data"
    },
    {
     "name": "stdout",
     "output_type": "stream",
     "text": [
      "\u001b[1;92mSucessfully found: CBDU202447 license \n",
      "UK ENVIRONMENTAL & ASBESTOS SOLUTIONS LTD\n",
      "WN5 8EY\n",
      "Expiry Date 2023-10-04\n",
      "Date ok\n",
      "\u001b[1;92mTier  Upper\n",
      "-----------------\n"
     ]
    },
    {
     "data": {
      "text/plain": [
       "'http://environment.data.gov.uk/public-register/waste-carriers-brokers/registration/CBDU75471.json'"
      ]
     },
     "metadata": {},
     "output_type": "display_data"
    },
    {
     "name": "stdout",
     "output_type": "stream",
     "text": [
      "\u001b[1;92mSucessfully found: CBDU75471 license \n",
      "Fergusons Transport Ltd.\n",
      "NE23 7RH\n",
      "Expiry Date 2024-12-30\n",
      "Date ok\n",
      "\u001b[1;92mTier  Upper\n",
      "-----------------\n"
     ]
    },
    {
     "data": {
      "text/plain": [
       "'http://environment.data.gov.uk/public-register/waste-carriers-brokers/registration/CBDU139098.json'"
      ]
     },
     "metadata": {},
     "output_type": "display_data"
    },
    {
     "name": "stdout",
     "output_type": "stream",
     "text": [
      "\u001b[1;92mSucessfully found: CBDU139098 license \n",
      "Shaun Mckenna trading as Fenland Haulage and Storage\n",
      "PE14 7EY\n",
      "Expiry Date 2025-10-31\n",
      "Date ok\n",
      "\u001b[1;92mTier  Upper\n",
      "-----------------\n"
     ]
    },
    {
     "data": {
      "text/plain": [
       "'http://environment.data.gov.uk/public-register/waste-carriers-brokers/registration/CBDU105768.json'"
      ]
     },
     "metadata": {},
     "output_type": "display_data"
    },
    {
     "name": "stdout",
     "output_type": "stream",
     "text": [
      "\u001b[1;92mSucessfully found: CBDU105768 license \n",
      "Outen Ltd\n",
      "RM18 7HB\n",
      "Expiry Date 2025-04-26\n",
      "Date ok\n",
      "\u001b[1;92mTier  Upper\n",
      "-----------------\n"
     ]
    },
    {
     "data": {
      "text/plain": [
       "'http://environment.data.gov.uk/public-register/waste-carriers-brokers/registration/CBDU342884.json'"
      ]
     },
     "metadata": {},
     "output_type": "display_data"
    },
    {
     "name": "stdout",
     "output_type": "stream",
     "text": [
      "\u001b[1;92mSucessfully found: CBDU342884 license \n",
      "ABS LOGISTIC SOLUTIONS LIMITED\n",
      "PE10 0ZF\n",
      "Expiry Date 2026-06-29\n",
      "Date ok\n",
      "\u001b[1;92mTier  Upper\n",
      "-----------------\n"
     ]
    },
    {
     "data": {
      "text/plain": [
       "'http://environment.data.gov.uk/public-register/waste-carriers-brokers/registration/CBDU211879.json'"
      ]
     },
     "metadata": {},
     "output_type": "display_data"
    },
    {
     "name": "stdout",
     "output_type": "stream",
     "text": [
      "\u001b[1;92mSucessfully found: CBDU211879 license \n",
      "BOON EDAM LTD\n",
      "TN24 0GR\n",
      "Expiry Date 2024-01-02\n",
      "Date ok\n",
      "\u001b[1;92mTier  Upper\n",
      "-----------------\n"
     ]
    },
    {
     "data": {
      "text/plain": [
       "'http://environment.data.gov.uk/public-register/waste-carriers-brokers/registration/CBDU371920.json'"
      ]
     },
     "metadata": {},
     "output_type": "display_data"
    },
    {
     "name": "stdout",
     "output_type": "stream",
     "text": [
      "\u001b[1;92mSucessfully found: CBDU371920 license \n",
      "Cherry Pipes Ltd\n",
      "BT716NH\n",
      "Expiry Date 2024-01-29\n",
      "Date ok\n",
      "\u001b[1;92mTier  Upper\n",
      "-----------------\n"
     ]
    },
    {
     "data": {
      "text/plain": [
       "'http://environment.data.gov.uk/public-register/waste-carriers-brokers/registration/CBDU137743.json'"
      ]
     },
     "metadata": {},
     "output_type": "display_data"
    },
    {
     "name": "stdout",
     "output_type": "stream",
     "text": [
      "\u001b[1;92mSucessfully found: CBDU137743 license \n",
      "FREEBURN TRANSPORT LIMITED\n",
      "BT71 7SD\n",
      "Expiry Date 2025-10-06\n",
      "Date ok\n",
      "\u001b[1;92mTier  Upper\n",
      "-----------------\n"
     ]
    },
    {
     "data": {
      "text/plain": [
       "'http://environment.data.gov.uk/public-register/waste-carriers-brokers/registration/CBDU242842.json'"
      ]
     },
     "metadata": {},
     "output_type": "display_data"
    },
    {
     "name": "stdout",
     "output_type": "stream",
     "text": [
      "\u001b[1;92mSucessfully found: CBDU242842 license \n",
      "Mulgrew Haulage\n",
      "LA3 3PP\n",
      "Expiry Date 2024-06-22\n",
      "Date ok\n",
      "\u001b[1;92mTier  Upper\n",
      "-----------------\n",
      "\u001b[1;91m NOT found for: ROC UT 3837\n",
      "-----------------\n"
     ]
    },
    {
     "data": {
      "text/plain": [
       "'http://environment.data.gov.uk/public-register/waste-carriers-brokers/registration/CBDU86534.json'"
      ]
     },
     "metadata": {},
     "output_type": "display_data"
    },
    {
     "name": "stdout",
     "output_type": "stream",
     "text": [
      "\u001b[1;92mSucessfully found: CBDU86534 license \n",
      "Primagrange Ltd.\n",
      "BR5 3HY\n",
      "Expiry Date 2025-02-17\n",
      "Date ok\n",
      "\u001b[1;92mTier  Upper\n",
      "-----------------\n"
     ]
    },
    {
     "data": {
      "text/plain": [
       "'http://environment.data.gov.uk/public-register/waste-carriers-brokers/registration/CBDL30639.json'"
      ]
     },
     "metadata": {},
     "output_type": "display_data"
    },
    {
     "name": "stdout",
     "output_type": "stream",
     "text": [
      "\u001b[1;92mSucessfully found: CBDL30639 license \n",
      "The Salvation Army Property Section 101 Queen Victoria Street London\n",
      "EC4V 4EH\n",
      "\u001b[1;91mTier  Lower\n",
      "-----------------\n"
     ]
    },
    {
     "data": {
      "text/plain": [
       "'http://environment.data.gov.uk/public-register/waste-carriers-brokers/registration/CBDU415839.json'"
      ]
     },
     "metadata": {},
     "output_type": "display_data"
    },
    {
     "name": "stdout",
     "output_type": "stream",
     "text": [
      "\u001b[1;92mSucessfully found: CBDU415839 license \n",
      "GILDERS TRANSPORT LIMITED\n",
      "GL54 5HH\n",
      "Expiry Date 2024-12-06\n",
      "Date ok\n",
      "\u001b[1;92mTier  Upper\n",
      "-----------------\n"
     ]
    },
    {
     "data": {
      "text/plain": [
       "'http://environment.data.gov.uk/public-register/waste-carriers-brokers/registration/CBDU190299.json'"
      ]
     },
     "metadata": {},
     "output_type": "display_data"
    },
    {
     "name": "stdout",
     "output_type": "stream",
     "text": [
      "\u001b[1;92mSucessfully found: CBDU190299 license \n",
      "A2B ONLINE TRANSPORT LTD\n",
      "IP10 0DD\n",
      "Expiry Date 2023-08-09\n",
      "Date ok\n",
      "\u001b[1;92mTier  Upper\n",
      "-----------------\n"
     ]
    },
    {
     "data": {
      "text/plain": [
       "'http://environment.data.gov.uk/public-register/waste-carriers-brokers/registration/CBDU61848.json'"
      ]
     },
     "metadata": {},
     "output_type": "display_data"
    },
    {
     "name": "stdout",
     "output_type": "stream",
     "text": [
      "\u001b[1;92mSucessfully found: CBDU61848 license \n",
      "Paul McDaid trading as McDaid Construction\n",
      "TN6 3PL\n",
      "Expiry Date 2024-10-16\n",
      "Date ok\n",
      "\u001b[1;92mTier  Upper\n",
      "-----------------\n"
     ]
    },
    {
     "data": {
      "text/plain": [
       "'http://environment.data.gov.uk/public-register/waste-carriers-brokers/registration/CBDU190347.json'"
      ]
     },
     "metadata": {},
     "output_type": "display_data"
    },
    {
     "name": "stdout",
     "output_type": "stream",
     "text": [
      "\u001b[1;92mSucessfully found: CBDU190347 license \n",
      "BERTSCHI U.K. LTD\n",
      "TS6 6TZ\n",
      "Expiry Date 2023-08-19\n",
      "Date ok\n",
      "\u001b[1;92mTier  Upper\n",
      "-----------------\n",
      "\u001b[1;91m NOT found for: CBDU326424\n",
      "-----------------\n"
     ]
    },
    {
     "data": {
      "text/plain": [
       "'http://environment.data.gov.uk/public-register/waste-carriers-brokers/registration/CBDL49309.json'"
      ]
     },
     "metadata": {},
     "output_type": "display_data"
    },
    {
     "name": "stdout",
     "output_type": "stream",
     "text": [
      "\u001b[1;92mSucessfully found: CBDL49309 license \n",
      "Den Hartogh Dry Bulk Logistics Ltd\n",
      "HU3 4AE\n",
      "\u001b[1;91mTier  Lower\n",
      "-----------------\n"
     ]
    },
    {
     "data": {
      "text/plain": [
       "'http://environment.data.gov.uk/public-register/waste-carriers-brokers/registration/CBDU80875.json'"
      ]
     },
     "metadata": {},
     "output_type": "display_data"
    },
    {
     "name": "stdout",
     "output_type": "stream",
     "text": [
      "\u001b[1;92mSucessfully found: CBDU80875 license \n",
      "Surefreight Ltd.\n",
      "BT35 6JQ\n",
      "Expiry Date 2025-02-11\n",
      "Date ok\n",
      "\u001b[1;92mTier  Upper\n",
      "-----------------\n",
      "\u001b[1;39mSearch finished\n"
     ]
    }
   ],
   "source": [
    "from pandas.core import api\n",
    "#EA DOC \n",
    "# This is an autoscript that uses data dump from Elemos and checks licenses against EAs REST API\n",
    "# Written by Diran Edwards 01/11/2022\n",
    "# Last edited by Diran Edwards 04/11/2022\n",
    "\n",
    "import requests\n",
    "import json\n",
    "import pandas as pd\n",
    "import numpy as np\n",
    "\n",
    "from datetime import date\n",
    "now = date.today()\n",
    "nowString = str(now);\n",
    "\n",
    "\n",
    "#from google.colab import files\n",
    "#files.upload()\n",
    "data = pd.read_excel(\"../data.xlsx\") #this is the output from Elemos\n",
    "#display(data.head())\n",
    "df = pd.DataFrame(data)\n",
    "wcls = df.loc[:,'Waste Carrier License No']\n",
    "wcl = pd.unique(wcls)\n",
    "#display(df.head())\n",
    "display(wcl)\n",
    "#curl -X GET \"http://environment.data.gov.uk/public-register/waste-carriers-brokers/registration/\"\n",
    "\n",
    "#REST API endpoint\n",
    "api_url = \"http://environment.data.gov.uk/public-register/waste-carriers-brokers/registration/\"\n",
    "\n",
    "#testkey='CBDL258464'\n",
    "\n",
    "from urllib.request import urlopen\n",
    "from urllib.parse import quote\n",
    "\n",
    "\n",
    "def search(reg):\n",
    "\n",
    "    #check if not string\n",
    "    if not type(reg) == str:\n",
    "      print(f\"\\033[1;91mNOT found for: {reg}\")\n",
    "      return\n",
    "\n",
    "    url = api_url + reg\n",
    "    response = requests.get(url)\n",
    "    if(response.status_code == 200):\n",
    "    \n",
    "      url = api_url + reg + '.json'\n",
    "      response = urlopen(url).read().decode('utf8')\n",
    "    \n",
    "      display(url)\n",
    "    \n",
    "      print(f\"\\033[1;92mSucessfully found: {reg} license \")\n",
    "      ea_info = json.loads(response)\n",
    "      #print(ea_info)\n",
    "      \n",
    "      items=ea_info[\"items\"]\n",
    "      items_list_object = items[0]\n",
    "      \n",
    "      if \"organization_name\" in items_list_object[\"site\"][\"siteAddress\"]:\n",
    "        print(items_list_object[\"site\"][\"siteAddress\"][\"organization_name\"])\n",
    "      \n",
    "      if \"postcode\" in items_list_object[\"site\"][\"siteAddress\"]:\n",
    "        print(items_list_object[\"site\"][\"siteAddress\"][\"postcode\"])\n",
    "      \n",
    "      if \"expiryDate\" in items_list_object:\n",
    "        print(\"Expiry Date\" ,items_list_object[\"expiryDate\"])\n",
    "        if items_list_object[\"expiryDate\"] >= nowString:\n",
    "            print(\"Date ok\")\n",
    "        else:\n",
    "            print(\"\\033[1;91m Date expired\")\n",
    "            \n",
    "\n",
    "      if items_list_object[\"tier\"][\"label\"] == \"Upper\":\n",
    "        print(f\"\\033[1;92mTier \", items_list_object[\"tier\"][\"label\"])   \n",
    "      else:\n",
    "        print(f\"\\033[1;91mTier \", items_list_object[\"tier\"][\"label\"])\n",
    "    \n",
    "      \n",
    "      \n",
    "        \n",
    "      return ea_info\n",
    "    \n",
    "    else:\n",
    "      print(f\"\\033[1;91m NOT found for: {reg}\")\n",
    "      return \"\"\n",
    "    \n",
    "#def info()):\n",
    "   \n",
    "i = 0\n",
    "for string in wcl:    \n",
    "    ea_info = search(string)\n",
    "    print(\"-----------------\")\n",
    "    # print(ea_info)\n",
    "    i += 1\n",
    "    #break\n",
    "print(\"\\033[1;39mSearch finished\")\n",
    "\n",
    "##todo #tidy code\n"
   ]
  },
  {
   "cell_type": "code",
   "execution_count": null,
   "id": "9e069a89",
   "metadata": {},
   "outputs": [],
   "source": []
  }
 ],
 "metadata": {
  "kernelspec": {
   "display_name": "Python 3",
   "language": "python",
   "name": "python3"
  },
  "language_info": {
   "codemirror_mode": {
    "name": "ipython",
    "version": 3
   },
   "file_extension": ".py",
   "mimetype": "text/x-python",
   "name": "python",
   "nbconvert_exporter": "python",
   "pygments_lexer": "ipython3",
   "version": "3.8.8"
  }
 },
 "nbformat": 4,
 "nbformat_minor": 5
}
